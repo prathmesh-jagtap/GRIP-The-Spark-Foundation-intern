{
 "cells": [
  {
   "cell_type": "markdown",
   "id": "9952cc47",
   "metadata": {},
   "source": [
    "# GRIP : The Spark Foundation (Data Science and Business Analytics Intern)\n",
    "Graduate Rotational Internship Program"
   ]
  },
  {
   "cell_type": "markdown",
   "id": "86389570",
   "metadata": {},
   "source": [
    "## Author : Prathmesh Jagtap"
   ]
  },
  {
   "cell_type": "markdown",
   "id": "628a5055",
   "metadata": {},
   "source": [
    "# Task 1\n",
    "## Prediction using Supervised ML\n",
    "\n",
    "### (Level - Beginner)\n",
    "\n",
    "* ***Predict the percentage of an student based on the no. of study hours.***\n",
    "* ***This is a simple linear regression task as it involves just 2 variables.***\n",
    "* ***You can use R, Python, SAS Enterprise Miner or any other tool***\n",
    "* ***Data can be found at http://bit.ly/w-data***\n",
    "* ***What will be predicted score if a student studies for 9.25 hrs/ day?***"
   ]
  },
  {
   "cell_type": "markdown",
   "id": "bff6631b",
   "metadata": {},
   "source": [
    "### Importing all required liberaries"
   ]
  },
  {
   "cell_type": "code",
   "execution_count": 1,
   "id": "57fbbe64",
   "metadata": {},
   "outputs": [],
   "source": [
    "import numpy as np \n",
    "import pandas as pd\n",
    "import matplotlib.pyplot as plt\n",
    "import seaborn as sns"
   ]
  },
  {
   "cell_type": "markdown",
   "id": "dc33ceae",
   "metadata": {},
   "source": [
    "### Loading dataset"
   ]
  },
  {
   "cell_type": "code",
   "execution_count": 2,
   "id": "7a8a805e",
   "metadata": {},
   "outputs": [
    {
     "data": {
      "text/html": [
       "<div>\n",
       "<style scoped>\n",
       "    .dataframe tbody tr th:only-of-type {\n",
       "        vertical-align: middle;\n",
       "    }\n",
       "\n",
       "    .dataframe tbody tr th {\n",
       "        vertical-align: top;\n",
       "    }\n",
       "\n",
       "    .dataframe thead th {\n",
       "        text-align: right;\n",
       "    }\n",
       "</style>\n",
       "<table border=\"1\" class=\"dataframe\">\n",
       "  <thead>\n",
       "    <tr style=\"text-align: right;\">\n",
       "      <th></th>\n",
       "      <th>Hours</th>\n",
       "      <th>Scores</th>\n",
       "    </tr>\n",
       "  </thead>\n",
       "  <tbody>\n",
       "    <tr>\n",
       "      <th>0</th>\n",
       "      <td>2.5</td>\n",
       "      <td>21</td>\n",
       "    </tr>\n",
       "    <tr>\n",
       "      <th>1</th>\n",
       "      <td>5.1</td>\n",
       "      <td>47</td>\n",
       "    </tr>\n",
       "    <tr>\n",
       "      <th>2</th>\n",
       "      <td>3.2</td>\n",
       "      <td>27</td>\n",
       "    </tr>\n",
       "    <tr>\n",
       "      <th>3</th>\n",
       "      <td>8.5</td>\n",
       "      <td>75</td>\n",
       "    </tr>\n",
       "    <tr>\n",
       "      <th>4</th>\n",
       "      <td>3.5</td>\n",
       "      <td>30</td>\n",
       "    </tr>\n",
       "  </tbody>\n",
       "</table>\n",
       "</div>"
      ],
      "text/plain": [
       "   Hours  Scores\n",
       "0    2.5      21\n",
       "1    5.1      47\n",
       "2    3.2      27\n",
       "3    8.5      75\n",
       "4    3.5      30"
      ]
     },
     "execution_count": 2,
     "metadata": {},
     "output_type": "execute_result"
    }
   ],
   "source": [
    "stud_score = pd.read_csv(\"Student_Score.csv\")\n",
    "stud_score.head()\n",
    "# head() is used to fetching top 5 rows of the given dataset by default."
   ]
  },
  {
   "cell_type": "code",
   "execution_count": 3,
   "id": "31f30083",
   "metadata": {},
   "outputs": [
    {
     "data": {
      "text/html": [
       "<div>\n",
       "<style scoped>\n",
       "    .dataframe tbody tr th:only-of-type {\n",
       "        vertical-align: middle;\n",
       "    }\n",
       "\n",
       "    .dataframe tbody tr th {\n",
       "        vertical-align: top;\n",
       "    }\n",
       "\n",
       "    .dataframe thead th {\n",
       "        text-align: right;\n",
       "    }\n",
       "</style>\n",
       "<table border=\"1\" class=\"dataframe\">\n",
       "  <thead>\n",
       "    <tr style=\"text-align: right;\">\n",
       "      <th></th>\n",
       "      <th>Hours</th>\n",
       "      <th>Scores</th>\n",
       "    </tr>\n",
       "  </thead>\n",
       "  <tbody>\n",
       "    <tr>\n",
       "      <th>20</th>\n",
       "      <td>2.7</td>\n",
       "      <td>30</td>\n",
       "    </tr>\n",
       "    <tr>\n",
       "      <th>21</th>\n",
       "      <td>4.8</td>\n",
       "      <td>54</td>\n",
       "    </tr>\n",
       "    <tr>\n",
       "      <th>22</th>\n",
       "      <td>3.8</td>\n",
       "      <td>35</td>\n",
       "    </tr>\n",
       "    <tr>\n",
       "      <th>23</th>\n",
       "      <td>6.9</td>\n",
       "      <td>76</td>\n",
       "    </tr>\n",
       "    <tr>\n",
       "      <th>24</th>\n",
       "      <td>7.8</td>\n",
       "      <td>86</td>\n",
       "    </tr>\n",
       "  </tbody>\n",
       "</table>\n",
       "</div>"
      ],
      "text/plain": [
       "    Hours  Scores\n",
       "20    2.7      30\n",
       "21    4.8      54\n",
       "22    3.8      35\n",
       "23    6.9      76\n",
       "24    7.8      86"
      ]
     },
     "execution_count": 3,
     "metadata": {},
     "output_type": "execute_result"
    }
   ],
   "source": [
    "stud_score.tail()\n",
    "# tail() is used to fetching top 5 bottom rows of the given dataset by default."
   ]
  },
  {
   "cell_type": "code",
   "execution_count": 4,
   "id": "81f3e234",
   "metadata": {},
   "outputs": [
    {
     "data": {
      "text/plain": [
       "Index(['Hours', 'Scores'], dtype='object')"
      ]
     },
     "execution_count": 4,
     "metadata": {},
     "output_type": "execute_result"
    }
   ],
   "source": [
    "stud_score.columns"
   ]
  },
  {
   "cell_type": "code",
   "execution_count": 5,
   "id": "41e899aa",
   "metadata": {},
   "outputs": [
    {
     "data": {
      "text/plain": [
       "Hours     float64\n",
       "Scores      int64\n",
       "dtype: object"
      ]
     },
     "execution_count": 5,
     "metadata": {},
     "output_type": "execute_result"
    }
   ],
   "source": [
    "stud_score.dtypes"
   ]
  },
  {
   "cell_type": "code",
   "execution_count": 6,
   "id": "8e6ee058",
   "metadata": {},
   "outputs": [
    {
     "name": "stdout",
     "output_type": "stream",
     "text": [
      "Dimension of given dataset:  2\n"
     ]
    }
   ],
   "source": [
    "print(\"Dimension of given dataset: \",stud_score.ndim)"
   ]
  },
  {
   "cell_type": "code",
   "execution_count": 7,
   "id": "7033da13",
   "metadata": {},
   "outputs": [
    {
     "name": "stdout",
     "output_type": "stream",
     "text": [
      "size of data : (25, 2)\n"
     ]
    }
   ],
   "source": [
    "print(\"size of data :\", stud_score.shape)\n",
    "# i.e; row size = 25 & column size = 2"
   ]
  },
  {
   "cell_type": "code",
   "execution_count": 8,
   "id": "b5136427",
   "metadata": {},
   "outputs": [
    {
     "name": "stdout",
     "output_type": "stream",
     "text": [
      "<class 'pandas.core.frame.DataFrame'>\n",
      "RangeIndex: 25 entries, 0 to 24\n",
      "Data columns (total 2 columns):\n",
      " #   Column  Non-Null Count  Dtype  \n",
      "---  ------  --------------  -----  \n",
      " 0   Hours   25 non-null     float64\n",
      " 1   Scores  25 non-null     int64  \n",
      "dtypes: float64(1), int64(1)\n",
      "memory usage: 464.0 bytes\n"
     ]
    }
   ],
   "source": [
    "stud_score.info()"
   ]
  },
  {
   "cell_type": "code",
   "execution_count": 9,
   "id": "67f92850",
   "metadata": {},
   "outputs": [
    {
     "data": {
      "text/html": [
       "<div>\n",
       "<style scoped>\n",
       "    .dataframe tbody tr th:only-of-type {\n",
       "        vertical-align: middle;\n",
       "    }\n",
       "\n",
       "    .dataframe tbody tr th {\n",
       "        vertical-align: top;\n",
       "    }\n",
       "\n",
       "    .dataframe thead th {\n",
       "        text-align: right;\n",
       "    }\n",
       "</style>\n",
       "<table border=\"1\" class=\"dataframe\">\n",
       "  <thead>\n",
       "    <tr style=\"text-align: right;\">\n",
       "      <th></th>\n",
       "      <th>count</th>\n",
       "      <th>mean</th>\n",
       "      <th>std</th>\n",
       "      <th>min</th>\n",
       "      <th>25%</th>\n",
       "      <th>50%</th>\n",
       "      <th>75%</th>\n",
       "      <th>max</th>\n",
       "    </tr>\n",
       "  </thead>\n",
       "  <tbody>\n",
       "    <tr>\n",
       "      <th>Hours</th>\n",
       "      <td>25.0</td>\n",
       "      <td>5.012</td>\n",
       "      <td>2.525094</td>\n",
       "      <td>1.1</td>\n",
       "      <td>2.7</td>\n",
       "      <td>4.8</td>\n",
       "      <td>7.4</td>\n",
       "      <td>9.2</td>\n",
       "    </tr>\n",
       "    <tr>\n",
       "      <th>Scores</th>\n",
       "      <td>25.0</td>\n",
       "      <td>51.480</td>\n",
       "      <td>25.286887</td>\n",
       "      <td>17.0</td>\n",
       "      <td>30.0</td>\n",
       "      <td>47.0</td>\n",
       "      <td>75.0</td>\n",
       "      <td>95.0</td>\n",
       "    </tr>\n",
       "  </tbody>\n",
       "</table>\n",
       "</div>"
      ],
      "text/plain": [
       "        count    mean        std   min   25%   50%   75%   max\n",
       "Hours    25.0   5.012   2.525094   1.1   2.7   4.8   7.4   9.2\n",
       "Scores   25.0  51.480  25.286887  17.0  30.0  47.0  75.0  95.0"
      ]
     },
     "execution_count": 9,
     "metadata": {},
     "output_type": "execute_result"
    }
   ],
   "source": [
    "stud_score.describe().transpose()\n",
    "# Here, By describe() functon we can easily find the nean, standard deviation \n",
    "# and minimun, maximum of data"
   ]
  },
  {
   "cell_type": "code",
   "execution_count": 30,
   "id": "16f7301c",
   "metadata": {},
   "outputs": [
    {
     "data": {
      "text/plain": [
       "Hours     0\n",
       "Scores    0\n",
       "dtype: int64"
      ]
     },
     "execution_count": 30,
     "metadata": {},
     "output_type": "execute_result"
    }
   ],
   "source": [
    "stud_score.isnull().sum() # checking for null values"
   ]
  },
  {
   "cell_type": "code",
   "execution_count": 29,
   "id": "61db24d6",
   "metadata": {},
   "outputs": [
    {
     "data": {
      "text/html": [
       "<div>\n",
       "<style scoped>\n",
       "    .dataframe tbody tr th:only-of-type {\n",
       "        vertical-align: middle;\n",
       "    }\n",
       "\n",
       "    .dataframe tbody tr th {\n",
       "        vertical-align: top;\n",
       "    }\n",
       "\n",
       "    .dataframe thead th {\n",
       "        text-align: right;\n",
       "    }\n",
       "</style>\n",
       "<table border=\"1\" class=\"dataframe\">\n",
       "  <thead>\n",
       "    <tr style=\"text-align: right;\">\n",
       "      <th></th>\n",
       "      <th>Hours</th>\n",
       "      <th>Scores</th>\n",
       "    </tr>\n",
       "  </thead>\n",
       "  <tbody>\n",
       "    <tr>\n",
       "      <th>Hours</th>\n",
       "      <td>1.000000</td>\n",
       "      <td>0.976191</td>\n",
       "    </tr>\n",
       "    <tr>\n",
       "      <th>Scores</th>\n",
       "      <td>0.976191</td>\n",
       "      <td>1.000000</td>\n",
       "    </tr>\n",
       "  </tbody>\n",
       "</table>\n",
       "</div>"
      ],
      "text/plain": [
       "           Hours    Scores\n",
       "Hours   1.000000  0.976191\n",
       "Scores  0.976191  1.000000"
      ]
     },
     "execution_count": 29,
     "metadata": {},
     "output_type": "execute_result"
    }
   ],
   "source": [
    "stud_score.corr() #Correlation between data"
   ]
  },
  {
   "cell_type": "markdown",
   "id": "87e91528",
   "metadata": {},
   "source": [
    "### Visualizing data"
   ]
  },
  {
   "cell_type": "code",
   "execution_count": 14,
   "id": "65a0a1e1",
   "metadata": {},
   "outputs": [
    {
     "data": {
      "text/plain": [
       "<AxesSubplot:>"
      ]
     },
     "execution_count": 14,
     "metadata": {},
     "output_type": "execute_result"
    },
    {
     "data": {
      "image/png": "[encoded data removed]",
      "text/plain": [
       "<Figure size 432x288 with 1 Axes>"
      ]
     },
     "metadata": {
      "needs_background": "light"
     },
     "output_type": "display_data"
    }
   ],
   "source": [
    "sns.lineplot(data=stud_score)"
   ]
  },
  {
   "cell_type": "code",
   "execution_count": 12,
   "id": "43f41d68",
   "metadata": {},
   "outputs": [
    {
     "data": {
      "text/plain": [
       "<seaborn.axisgrid.PairGrid at 0x9e56df0>"
      ]
     },
     "execution_count": 12,
     "metadata": {},
     "output_type": "execute_result"
    },
    {
     "data": {
      "image/png": "[encoded data removed]",
      "text/plain": [
       "<Figure size 360x360 with 6 Axes>"
      ]
     },
     "metadata": {
      "needs_background": "light"
     },
     "output_type": "display_data"
    }
   ],
   "source": [
    "sns.pairplot(data = stud_score, palette=\"Set2\", height=2.5)"
   ]
  },
  {
   "cell_type": "code",
   "execution_count": 13,
   "id": "528d44a9",
   "metadata": {},
   "outputs": [
    {
     "data": {
      "image/png": "[encoded data removed]",
      "text/plain": [
       "<Figure size 360x360 with 1 Axes>"
      ]
     },
     "metadata": {
      "needs_background": "light"
     },
     "output_type": "display_data"
    }
   ],
   "source": [
    "sns.lmplot(x=\"Hours\", y=\"Scores\", data=stud_score, x_estimator=np.mean);"
   ]
  },
  {
   "cell_type": "code",
   "execution_count": 15,
   "id": "a8014311",
   "metadata": {},
   "outputs": [
    {
     "data": {
      "text/plain": [
       "<function matplotlib.pyplot.show(close=None, block=None)>"
      ]
     },
     "execution_count": 15,
     "metadata": {},
     "output_type": "execute_result"
    },
    {
     "data": {
      "image/png": "[encoded data removed]",
      "text/plain": [
       "<Figure size 360x360 with 1 Axes>"
      ]
     },
     "metadata": {
      "needs_background": "light"
     },
     "output_type": "display_data"
    },
    {
     "data": {
      "image/png": "[encoded data removed]",
      "text/plain": [
       "<Figure size 360x360 with 1 Axes>"
      ]
     },
     "metadata": {
      "needs_background": "light"
     },
     "output_type": "display_data"
    }
   ],
   "source": [
    "sns.catplot(x=\"Hours\", y=\"Scores\",  kind=\"bar\", data=stud_score)\n",
    "sns.catplot(x=\"Hours\", y=\"Scores\",  kind=\"violin\", data=stud_score)\n",
    "plt.show"
   ]
  },
  {
   "cell_type": "markdown",
   "id": "e8b998ff",
   "metadata": {},
   "source": [
    "### Spliting the data "
   ]
  },
  {
   "cell_type": "code",
   "execution_count": 16,
   "id": "ef1d3068",
   "metadata": {},
   "outputs": [],
   "source": [
    "# taking feature set(x) and target set(y)\n",
    "x = stud_score.iloc[:, :1]\n",
    "y = stud_score.iloc[:, 1]"
   ]
  },
  {
   "cell_type": "markdown",
   "id": "552da20b",
   "metadata": {},
   "source": [
    "### Training and Testing the data"
   ]
  },
  {
   "cell_type": "code",
   "execution_count": 17,
   "id": "553e65ef",
   "metadata": {},
   "outputs": [
    {
     "name": "stdout",
     "output_type": "stream",
     "text": [
      "Size of the training set : (17, 1) (17,)\n",
      "Size of the testing set : (8, 1) (8,)\n"
     ]
    }
   ],
   "source": [
    "from sklearn.model_selection import train_test_split\n",
    "from sklearn.linear_model import LinearRegression\n",
    "\n",
    "x_train, x_test, y_train, y_test = train_test_split(x, y, test_size = 0.3, random_state = 10)\n",
    "print(\"Size of the training set :\", x_train.shape, y_train.shape)\n",
    "print(\"Size of the testing set :\", x_test.shape, y_test.shape)"
   ]
  },
  {
   "cell_type": "code",
   "execution_count": 18,
   "id": "6d8fe6e0",
   "metadata": {},
   "outputs": [
    {
     "data": {
      "text/plain": [
       "array([16.3158208 , 52.56027486, 34.43804783, 33.43125744, 46.51953252,\n",
       "       75.71645385, 12.28865924, 56.58743642])"
      ]
     },
     "execution_count": 18,
     "metadata": {},
     "output_type": "execute_result"
    }
   ],
   "source": [
    "# fiting the data\n",
    "lr = LinearRegression()\n",
    "trainset = lr.fit(x_train, y_train)\n",
    "test_pred = lr.predict(x_test)\n",
    "test_pred"
   ]
  },
  {
   "cell_type": "code",
   "execution_count": 19,
   "id": "07bbbd28",
   "metadata": {},
   "outputs": [
    {
     "data": {
      "text/plain": [
       "5    -3.684179\n",
       "1     5.560275\n",
       "13   -7.561952\n",
       "2     6.431257\n",
       "12    5.519533\n",
       "19    6.716454\n",
       "14   -4.711341\n",
       "7    -3.412564\n",
       "Name: Scores, dtype: float64"
      ]
     },
     "execution_count": 19,
     "metadata": {},
     "output_type": "execute_result"
    }
   ],
   "source": [
    "test_pred - y_test"
   ]
  },
  {
   "cell_type": "code",
   "execution_count": 20,
   "id": "c1ef07f4",
   "metadata": {},
   "outputs": [
    {
     "data": {
      "text/plain": [
       "array([10.06790391])"
      ]
     },
     "execution_count": 20,
     "metadata": {},
     "output_type": "execute_result"
    }
   ],
   "source": [
    "lr.coef_ #m"
   ]
  },
  {
   "cell_type": "code",
   "execution_count": 21,
   "id": "8daf5298",
   "metadata": {},
   "outputs": [
    {
     "data": {
      "text/plain": [
       "1.2139649388594052"
      ]
     },
     "execution_count": 21,
     "metadata": {},
     "output_type": "execute_result"
    }
   ],
   "source": [
    "lr.intercept_ #c"
   ]
  },
  {
   "cell_type": "code",
   "execution_count": 47,
   "id": "eb1f1888",
   "metadata": {},
   "outputs": [
    {
     "name": "stdout",
     "output_type": "stream",
     "text": [
      "If the students studies 9.25 hours per day he will get [94.34207607] score as per are prediction model.\n"
     ]
    }
   ],
   "source": [
    "# lets predict\n",
    "y_pred = lr.predict([[9.25]])\n",
    "y_pred\n",
    "print(f\"If the students studies 9.25 hours per day he will get {y_pred} score as per are prediction model.\".format())"
   ]
  },
  {
   "cell_type": "code",
   "execution_count": 40,
   "id": "86118186",
   "metadata": {},
   "outputs": [
    {
     "data": {
      "text/plain": [
       "94.53035895297785"
      ]
     },
     "execution_count": 40,
     "metadata": {},
     "output_type": "execute_result"
    }
   ],
   "source": [
    "# y = mx + c\n",
    "pred = 10.06755514*9.25 + 1.4054739079778429\n",
    "pred"
   ]
  },
  {
   "cell_type": "markdown",
   "id": "b1a17bab",
   "metadata": {},
   "source": [
    "### Now Visualizing the  prediction by Linear Regression model"
   ]
  },
  {
   "cell_type": "code",
   "execution_count": 24,
   "id": "e46c9518",
   "metadata": {},
   "outputs": [
    {
     "data": {
      "image/png": "[encoded data removed]",
      "text/plain": [
       "<Figure size 432x288 with 1 Axes>"
      ]
     },
     "metadata": {
      "needs_background": "light"
     },
     "output_type": "display_data"
    }
   ],
   "source": [
    "# Visualizing the Training set results\n",
    "viz_train = plt\n",
    "viz_train.scatter(x_train, y_train, color='green')\n",
    "viz_train.plot(x_train, lr.predict(x_train), color='blue')\n",
    "viz_train.title('Hours vs Score (Training set)')\n",
    "viz_train.xlabel('Hours')\n",
    "viz_train.ylabel('Score')\n",
    "viz_train.show()"
   ]
  },
  {
   "cell_type": "code",
   "execution_count": 25,
   "id": "5c58b74f",
   "metadata": {},
   "outputs": [
    {
     "data": {
      "image/png": "[encoded data removed]",
      "text/plain": [
       "<Figure size 432x288 with 1 Axes>"
      ]
     },
     "metadata": {
      "needs_background": "light"
     },
     "output_type": "display_data"
    }
   ],
   "source": [
    "# Visualizing the Test set results\n",
    "viz_test = plt\n",
    "viz_test.scatter(x_test, y_test, color='red')\n",
    "viz_test.plot(x_train, lr.predict(x_train), color='black')\n",
    "viz_test.title('Hours vs Score (Test set)')\n",
    "viz_test.xlabel('Hours')\n",
    "viz_test.ylabel('Score')\n",
    "viz_test.show()"
   ]
  },
  {
   "cell_type": "markdown",
   "id": "57d54838",
   "metadata": {},
   "source": [
    "### Final Prediction"
   ]
  },
  {
   "cell_type": "code",
   "execution_count": 33,
   "id": "9702f7d3",
   "metadata": {},
   "outputs": [
    {
     "data": {
      "text/plain": [
       "89.44542088325093"
      ]
     },
     "execution_count": 33,
     "metadata": {},
     "output_type": "execute_result"
    }
   ],
   "source": [
    "# Output\n",
    "lr.score(x_test, y_test)*100"
   ]
  },
  {
   "cell_type": "markdown",
   "id": "1ea339d6",
   "metadata": {},
   "source": [
    "### Saving Model using pickle module"
   ]
  },
  {
   "cell_type": "code",
   "execution_count": 27,
   "id": "92082494",
   "metadata": {},
   "outputs": [],
   "source": [
    "import pickle\n",
    " \n",
    "# Save the trained model as a pickle string.\n",
    "saved_model = pickle.dumps(lr)\n",
    " \n",
    "# Load the pickled model\n",
    "lr_from_pickle = pickle.loads(saved_model)\n"
   ]
  },
  {
   "cell_type": "code",
   "execution_count": null,
   "id": "163f578c",
   "metadata": {},
   "outputs": [],
   "source": []
  }
 ],
 "metadata": {
  "kernelspec": {
   "display_name": "Python 3",
   "language": "python",
   "name": "python3"
  },
  "language_info": {
   "codemirror_mode": {
    "name": "ipython",
    "version": 3
   },
   "file_extension": ".py",
   "mimetype": "text/x-python",
   "name": "python",
   "nbconvert_exporter": "python",
   "pygments_lexer": "ipython3",
   "version": "3.8.5"
  }
 },
 "nbformat": 4,
 "nbformat_minor": 5
}
